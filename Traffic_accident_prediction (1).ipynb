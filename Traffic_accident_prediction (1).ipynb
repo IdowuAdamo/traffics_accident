{
 "cells": [
  {
   "cell_type": "code",
   "execution_count": 1,
   "id": "06e867cd",
   "metadata": {},
   "outputs": [],
   "source": [
    "import pandas as pd\n",
    "import numpy as np\n",
    "import matplotlib.pyplot as plt\n",
    "import seaborn as sns\n",
    "from scipy.stats import ttest_ind # importing the libraries we will be using in this analysis "
   ]
  },
  {
   "cell_type": "code",
   "execution_count": 2,
   "id": "cb31f79a",
   "metadata": {},
   "outputs": [],
   "source": [
    "df = pd.read_csv(\"Traffic.csv\") # reading a csv file using pandas"
   ]
  },
  {
   "cell_type": "code",
   "execution_count": 3,
   "id": "b9328cc6",
   "metadata": {},
   "outputs": [
    {
     "data": {
      "text/html": [
       "<div>\n",
       "<style scoped>\n",
       "    .dataframe tbody tr th:only-of-type {\n",
       "        vertical-align: middle;\n",
       "    }\n",
       "\n",
       "    .dataframe tbody tr th {\n",
       "        vertical-align: top;\n",
       "    }\n",
       "\n",
       "    .dataframe thead th {\n",
       "        text-align: right;\n",
       "    }\n",
       "</style>\n",
       "<table border=\"1\" class=\"dataframe\">\n",
       "  <thead>\n",
       "    <tr style=\"text-align: right;\">\n",
       "      <th></th>\n",
       "      <th>Unnamed: 0</th>\n",
       "      <th>year</th>\n",
       "      <th>day</th>\n",
       "      <th>limit</th>\n",
       "      <th>y</th>\n",
       "    </tr>\n",
       "  </thead>\n",
       "  <tbody>\n",
       "    <tr>\n",
       "      <th>0</th>\n",
       "      <td>1</td>\n",
       "      <td>1961</td>\n",
       "      <td>1</td>\n",
       "      <td>no</td>\n",
       "      <td>9</td>\n",
       "    </tr>\n",
       "    <tr>\n",
       "      <th>1</th>\n",
       "      <td>2</td>\n",
       "      <td>1961</td>\n",
       "      <td>2</td>\n",
       "      <td>no</td>\n",
       "      <td>11</td>\n",
       "    </tr>\n",
       "    <tr>\n",
       "      <th>2</th>\n",
       "      <td>3</td>\n",
       "      <td>1961</td>\n",
       "      <td>3</td>\n",
       "      <td>no</td>\n",
       "      <td>9</td>\n",
       "    </tr>\n",
       "    <tr>\n",
       "      <th>3</th>\n",
       "      <td>4</td>\n",
       "      <td>1961</td>\n",
       "      <td>4</td>\n",
       "      <td>no</td>\n",
       "      <td>20</td>\n",
       "    </tr>\n",
       "    <tr>\n",
       "      <th>4</th>\n",
       "      <td>5</td>\n",
       "      <td>1961</td>\n",
       "      <td>5</td>\n",
       "      <td>no</td>\n",
       "      <td>31</td>\n",
       "    </tr>\n",
       "  </tbody>\n",
       "</table>\n",
       "</div>"
      ],
      "text/plain": [
       "   Unnamed: 0  year  day limit   y\n",
       "0           1  1961    1    no   9\n",
       "1           2  1961    2    no  11\n",
       "2           3  1961    3    no   9\n",
       "3           4  1961    4    no  20\n",
       "4           5  1961    5    no  31"
      ]
     },
     "execution_count": 3,
     "metadata": {},
     "output_type": "execute_result"
    }
   ],
   "source": [
    "df.head() # displaying the first five rows of the dataset"
   ]
  },
  {
   "cell_type": "code",
   "execution_count": 4,
   "id": "2f2e1f6c",
   "metadata": {},
   "outputs": [
    {
     "data": {
      "text/html": [
       "<div>\n",
       "<style scoped>\n",
       "    .dataframe tbody tr th:only-of-type {\n",
       "        vertical-align: middle;\n",
       "    }\n",
       "\n",
       "    .dataframe tbody tr th {\n",
       "        vertical-align: top;\n",
       "    }\n",
       "\n",
       "    .dataframe thead th {\n",
       "        text-align: right;\n",
       "    }\n",
       "</style>\n",
       "<table border=\"1\" class=\"dataframe\">\n",
       "  <thead>\n",
       "    <tr style=\"text-align: right;\">\n",
       "      <th></th>\n",
       "      <th>Unnamed: 0</th>\n",
       "      <th>year</th>\n",
       "      <th>day</th>\n",
       "      <th>limit</th>\n",
       "      <th>y</th>\n",
       "    </tr>\n",
       "  </thead>\n",
       "  <tbody>\n",
       "    <tr>\n",
       "      <th>179</th>\n",
       "      <td>180</td>\n",
       "      <td>1962</td>\n",
       "      <td>88</td>\n",
       "      <td>yes</td>\n",
       "      <td>16</td>\n",
       "    </tr>\n",
       "    <tr>\n",
       "      <th>180</th>\n",
       "      <td>181</td>\n",
       "      <td>1962</td>\n",
       "      <td>89</td>\n",
       "      <td>yes</td>\n",
       "      <td>25</td>\n",
       "    </tr>\n",
       "    <tr>\n",
       "      <th>181</th>\n",
       "      <td>182</td>\n",
       "      <td>1962</td>\n",
       "      <td>90</td>\n",
       "      <td>yes</td>\n",
       "      <td>14</td>\n",
       "    </tr>\n",
       "    <tr>\n",
       "      <th>182</th>\n",
       "      <td>183</td>\n",
       "      <td>1962</td>\n",
       "      <td>91</td>\n",
       "      <td>yes</td>\n",
       "      <td>15</td>\n",
       "    </tr>\n",
       "    <tr>\n",
       "      <th>183</th>\n",
       "      <td>184</td>\n",
       "      <td>1962</td>\n",
       "      <td>92</td>\n",
       "      <td>yes</td>\n",
       "      <td>9</td>\n",
       "    </tr>\n",
       "  </tbody>\n",
       "</table>\n",
       "</div>"
      ],
      "text/plain": [
       "     Unnamed: 0  year  day limit   y\n",
       "179         180  1962   88   yes  16\n",
       "180         181  1962   89   yes  25\n",
       "181         182  1962   90   yes  14\n",
       "182         183  1962   91   yes  15\n",
       "183         184  1962   92   yes   9"
      ]
     },
     "execution_count": 4,
     "metadata": {},
     "output_type": "execute_result"
    }
   ],
   "source": [
    "df.tail() # displaying the last five rows of the dataset "
   ]
  },
  {
   "cell_type": "code",
   "execution_count": 5,
   "id": "f88d1c43",
   "metadata": {},
   "outputs": [
    {
     "data": {
      "text/plain": [
       "(184, 5)"
      ]
     },
     "execution_count": 5,
     "metadata": {},
     "output_type": "execute_result"
    }
   ],
   "source": [
    "df.shape # using the shape attribute to display the number of rows and columns"
   ]
  },
  {
   "cell_type": "code",
   "execution_count": 6,
   "id": "b582993e",
   "metadata": {},
   "outputs": [
    {
     "data": {
      "text/plain": [
       "['Unnamed: 0', 'year', 'day', 'limit', 'y']"
      ]
     },
     "execution_count": 6,
     "metadata": {},
     "output_type": "execute_result"
    }
   ],
   "source": [
    "list(df.columns) # using the columns attribute to display the column names in the dataset, the list function organises it in a list format"
   ]
  },
  {
   "cell_type": "code",
   "execution_count": 7,
   "id": "e80aca03",
   "metadata": {},
   "outputs": [
    {
     "name": "stdout",
     "output_type": "stream",
     "text": [
      "<class 'pandas.core.frame.DataFrame'>\n",
      "RangeIndex: 184 entries, 0 to 183\n",
      "Data columns (total 5 columns):\n",
      " #   Column      Non-Null Count  Dtype \n",
      "---  ------      --------------  ----- \n",
      " 0   Unnamed: 0  184 non-null    int64 \n",
      " 1   year        184 non-null    int64 \n",
      " 2   day         184 non-null    int64 \n",
      " 3   limit       184 non-null    object\n",
      " 4   y           184 non-null    int64 \n",
      "dtypes: int64(4), object(1)\n",
      "memory usage: 7.3+ KB\n"
     ]
    }
   ],
   "source": [
    "df.info() # using the info attribute to diplay the total number of non-null values, and the datatype of the columns in the dataset "
   ]
  },
  {
   "cell_type": "code",
   "execution_count": 8,
   "id": "7e40b381",
   "metadata": {},
   "outputs": [
    {
     "data": {
      "text/html": [
       "<div>\n",
       "<style scoped>\n",
       "    .dataframe tbody tr th:only-of-type {\n",
       "        vertical-align: middle;\n",
       "    }\n",
       "\n",
       "    .dataframe tbody tr th {\n",
       "        vertical-align: top;\n",
       "    }\n",
       "\n",
       "    .dataframe thead th {\n",
       "        text-align: right;\n",
       "    }\n",
       "</style>\n",
       "<table border=\"1\" class=\"dataframe\">\n",
       "  <thead>\n",
       "    <tr style=\"text-align: right;\">\n",
       "      <th></th>\n",
       "      <th>Unnamed: 0</th>\n",
       "      <th>year</th>\n",
       "      <th>day</th>\n",
       "      <th>y</th>\n",
       "    </tr>\n",
       "  </thead>\n",
       "  <tbody>\n",
       "    <tr>\n",
       "      <th>count</th>\n",
       "      <td>184.000000</td>\n",
       "      <td>184.000000</td>\n",
       "      <td>184.000000</td>\n",
       "      <td>184.000000</td>\n",
       "    </tr>\n",
       "    <tr>\n",
       "      <th>mean</th>\n",
       "      <td>92.500000</td>\n",
       "      <td>1961.500000</td>\n",
       "      <td>46.500000</td>\n",
       "      <td>21.548913</td>\n",
       "    </tr>\n",
       "    <tr>\n",
       "      <th>std</th>\n",
       "      <td>53.260367</td>\n",
       "      <td>0.501364</td>\n",
       "      <td>26.629003</td>\n",
       "      <td>8.786341</td>\n",
       "    </tr>\n",
       "    <tr>\n",
       "      <th>min</th>\n",
       "      <td>1.000000</td>\n",
       "      <td>1961.000000</td>\n",
       "      <td>1.000000</td>\n",
       "      <td>7.000000</td>\n",
       "    </tr>\n",
       "    <tr>\n",
       "      <th>25%</th>\n",
       "      <td>46.750000</td>\n",
       "      <td>1961.000000</td>\n",
       "      <td>23.750000</td>\n",
       "      <td>15.000000</td>\n",
       "    </tr>\n",
       "    <tr>\n",
       "      <th>50%</th>\n",
       "      <td>92.500000</td>\n",
       "      <td>1961.500000</td>\n",
       "      <td>46.500000</td>\n",
       "      <td>20.000000</td>\n",
       "    </tr>\n",
       "    <tr>\n",
       "      <th>75%</th>\n",
       "      <td>138.250000</td>\n",
       "      <td>1962.000000</td>\n",
       "      <td>69.250000</td>\n",
       "      <td>26.000000</td>\n",
       "    </tr>\n",
       "    <tr>\n",
       "      <th>max</th>\n",
       "      <td>184.000000</td>\n",
       "      <td>1962.000000</td>\n",
       "      <td>92.000000</td>\n",
       "      <td>49.000000</td>\n",
       "    </tr>\n",
       "  </tbody>\n",
       "</table>\n",
       "</div>"
      ],
      "text/plain": [
       "       Unnamed: 0         year         day           y\n",
       "count  184.000000   184.000000  184.000000  184.000000\n",
       "mean    92.500000  1961.500000   46.500000   21.548913\n",
       "std     53.260367     0.501364   26.629003    8.786341\n",
       "min      1.000000  1961.000000    1.000000    7.000000\n",
       "25%     46.750000  1961.000000   23.750000   15.000000\n",
       "50%     92.500000  1961.500000   46.500000   20.000000\n",
       "75%    138.250000  1962.000000   69.250000   26.000000\n",
       "max    184.000000  1962.000000   92.000000   49.000000"
      ]
     },
     "execution_count": 8,
     "metadata": {},
     "output_type": "execute_result"
    }
   ],
   "source": [
    "df.describe() # using the describe attribute to display the statistical properties of the columns in the dataset"
   ]
  },
  {
   "cell_type": "markdown",
   "id": "763c8761",
   "metadata": {},
   "source": [
    "# Data cleaning"
   ]
  },
  {
   "cell_type": "code",
   "execution_count": 9,
   "id": "5f724f15",
   "metadata": {},
   "outputs": [
    {
     "data": {
      "text/plain": [
       "Unnamed: 0    0\n",
       "year          0\n",
       "day           0\n",
       "limit         0\n",
       "y             0\n",
       "dtype: int64"
      ]
     },
     "execution_count": 9,
     "metadata": {},
     "output_type": "execute_result"
    }
   ],
   "source": [
    "df.isnull().sum() # using the isnull attribute to check for the missing values in each column of the dataset  "
   ]
  },
  {
   "cell_type": "code",
   "execution_count": 10,
   "id": "9ccfb17a",
   "metadata": {},
   "outputs": [
    {
     "name": "stderr",
     "output_type": "stream",
     "text": [
      "C:\\Users\\HP REVOLVE\\AppData\\Local\\Temp\\ipykernel_14056\\2887512237.py:1: FutureWarning: In a future version of pandas all arguments of DataFrame.drop except for the argument 'labels' will be keyword-only.\n",
      "  df_subset = df.drop('Unnamed: 0',1) # we will be dropping the \"Unnamed:0\" column since it is a repetition of the index column\n"
     ]
    },
    {
     "data": {
      "text/html": [
       "<div>\n",
       "<style scoped>\n",
       "    .dataframe tbody tr th:only-of-type {\n",
       "        vertical-align: middle;\n",
       "    }\n",
       "\n",
       "    .dataframe tbody tr th {\n",
       "        vertical-align: top;\n",
       "    }\n",
       "\n",
       "    .dataframe thead th {\n",
       "        text-align: right;\n",
       "    }\n",
       "</style>\n",
       "<table border=\"1\" class=\"dataframe\">\n",
       "  <thead>\n",
       "    <tr style=\"text-align: right;\">\n",
       "      <th></th>\n",
       "      <th>year</th>\n",
       "      <th>day</th>\n",
       "      <th>limit</th>\n",
       "      <th>y</th>\n",
       "    </tr>\n",
       "  </thead>\n",
       "  <tbody>\n",
       "    <tr>\n",
       "      <th>0</th>\n",
       "      <td>1961</td>\n",
       "      <td>1</td>\n",
       "      <td>no</td>\n",
       "      <td>9</td>\n",
       "    </tr>\n",
       "    <tr>\n",
       "      <th>1</th>\n",
       "      <td>1961</td>\n",
       "      <td>2</td>\n",
       "      <td>no</td>\n",
       "      <td>11</td>\n",
       "    </tr>\n",
       "    <tr>\n",
       "      <th>2</th>\n",
       "      <td>1961</td>\n",
       "      <td>3</td>\n",
       "      <td>no</td>\n",
       "      <td>9</td>\n",
       "    </tr>\n",
       "    <tr>\n",
       "      <th>3</th>\n",
       "      <td>1961</td>\n",
       "      <td>4</td>\n",
       "      <td>no</td>\n",
       "      <td>20</td>\n",
       "    </tr>\n",
       "    <tr>\n",
       "      <th>4</th>\n",
       "      <td>1961</td>\n",
       "      <td>5</td>\n",
       "      <td>no</td>\n",
       "      <td>31</td>\n",
       "    </tr>\n",
       "  </tbody>\n",
       "</table>\n",
       "</div>"
      ],
      "text/plain": [
       "   year  day limit   y\n",
       "0  1961    1    no   9\n",
       "1  1961    2    no  11\n",
       "2  1961    3    no   9\n",
       "3  1961    4    no  20\n",
       "4  1961    5    no  31"
      ]
     },
     "execution_count": 10,
     "metadata": {},
     "output_type": "execute_result"
    }
   ],
   "source": [
    "df_subset = df.drop('Unnamed: 0',1) # we will be dropping the \"Unnamed:0\" column since it is a repetition of the index column \n",
    "df_subset.head() # We then print the first five rows of the dataset to show that the \"Unnamed: 0\" column has been dropped"
   ]
  },
  {
   "cell_type": "code",
   "execution_count": 11,
   "id": "3d343999",
   "metadata": {},
   "outputs": [
    {
     "data": {
      "text/html": [
       "<div>\n",
       "<style scoped>\n",
       "    .dataframe tbody tr th:only-of-type {\n",
       "        vertical-align: middle;\n",
       "    }\n",
       "\n",
       "    .dataframe tbody tr th {\n",
       "        vertical-align: top;\n",
       "    }\n",
       "\n",
       "    .dataframe thead th {\n",
       "        text-align: right;\n",
       "    }\n",
       "</style>\n",
       "<table border=\"1\" class=\"dataframe\">\n",
       "  <thead>\n",
       "    <tr style=\"text-align: right;\">\n",
       "      <th></th>\n",
       "      <th>year</th>\n",
       "      <th>day</th>\n",
       "      <th>speed_limit</th>\n",
       "      <th>accident_count</th>\n",
       "    </tr>\n",
       "  </thead>\n",
       "  <tbody>\n",
       "    <tr>\n",
       "      <th>0</th>\n",
       "      <td>1961</td>\n",
       "      <td>1</td>\n",
       "      <td>no</td>\n",
       "      <td>9</td>\n",
       "    </tr>\n",
       "    <tr>\n",
       "      <th>1</th>\n",
       "      <td>1961</td>\n",
       "      <td>2</td>\n",
       "      <td>no</td>\n",
       "      <td>11</td>\n",
       "    </tr>\n",
       "    <tr>\n",
       "      <th>2</th>\n",
       "      <td>1961</td>\n",
       "      <td>3</td>\n",
       "      <td>no</td>\n",
       "      <td>9</td>\n",
       "    </tr>\n",
       "    <tr>\n",
       "      <th>3</th>\n",
       "      <td>1961</td>\n",
       "      <td>4</td>\n",
       "      <td>no</td>\n",
       "      <td>20</td>\n",
       "    </tr>\n",
       "    <tr>\n",
       "      <th>4</th>\n",
       "      <td>1961</td>\n",
       "      <td>5</td>\n",
       "      <td>no</td>\n",
       "      <td>31</td>\n",
       "    </tr>\n",
       "  </tbody>\n",
       "</table>\n",
       "</div>"
      ],
      "text/plain": [
       "   year  day speed_limit  accident_count\n",
       "0  1961    1          no               9\n",
       "1  1961    2          no              11\n",
       "2  1961    3          no               9\n",
       "3  1961    4          no              20\n",
       "4  1961    5          no              31"
      ]
     },
     "execution_count": 11,
     "metadata": {},
     "output_type": "execute_result"
    }
   ],
   "source": [
    "df_subset.rename(columns={\"y\": \"accident_count\", \"limit\": \"speed_limit\"}, inplace=True) # Changing the column names to more descriptive names\n",
    "df_subset.head()"
   ]
  },
  {
   "cell_type": "code",
   "execution_count": 12,
   "id": "b231bc4b",
   "metadata": {},
   "outputs": [],
   "source": [
    "df_subset[\"speed_limit\"] = df_subset[\"speed_limit\"].astype(\"category\")"
   ]
  },
  {
   "cell_type": "code",
   "execution_count": 13,
   "id": "bcdfc8ac",
   "metadata": {},
   "outputs": [
    {
     "name": "stdout",
     "output_type": "stream",
     "text": [
      "<class 'pandas.core.frame.DataFrame'>\n",
      "RangeIndex: 184 entries, 0 to 183\n",
      "Data columns (total 4 columns):\n",
      " #   Column          Non-Null Count  Dtype   \n",
      "---  ------          --------------  -----   \n",
      " 0   year            184 non-null    int64   \n",
      " 1   day             184 non-null    int64   \n",
      " 2   speed_limit     184 non-null    category\n",
      " 3   accident_count  184 non-null    int64   \n",
      "dtypes: category(1), int64(3)\n",
      "memory usage: 4.7 KB\n"
     ]
    }
   ],
   "source": [
    "df_subset.info() # the datatype of the speed_limit column has been changed to category"
   ]
  },
  {
   "cell_type": "code",
   "execution_count": 14,
   "id": "a47577de",
   "metadata": {},
   "outputs": [
    {
     "data": {
      "text/plain": [
       "0"
      ]
     },
     "execution_count": 14,
     "metadata": {},
     "output_type": "execute_result"
    }
   ],
   "source": [
    "df_subset.duplicated().sum() # checking for duplicated values in the dataset"
   ]
  },
  {
   "cell_type": "code",
   "execution_count": 15,
   "id": "e83788ca",
   "metadata": {},
   "outputs": [
    {
     "data": {
      "text/html": [
       "<div>\n",
       "<style scoped>\n",
       "    .dataframe tbody tr th:only-of-type {\n",
       "        vertical-align: middle;\n",
       "    }\n",
       "\n",
       "    .dataframe tbody tr th {\n",
       "        vertical-align: top;\n",
       "    }\n",
       "\n",
       "    .dataframe thead th {\n",
       "        text-align: right;\n",
       "    }\n",
       "</style>\n",
       "<table border=\"1\" class=\"dataframe\">\n",
       "  <thead>\n",
       "    <tr style=\"text-align: right;\">\n",
       "      <th>accident_count</th>\n",
       "      <th>7</th>\n",
       "      <th>8</th>\n",
       "      <th>9</th>\n",
       "      <th>10</th>\n",
       "      <th>11</th>\n",
       "      <th>12</th>\n",
       "      <th>13</th>\n",
       "      <th>14</th>\n",
       "      <th>15</th>\n",
       "      <th>16</th>\n",
       "      <th>...</th>\n",
       "      <th>37</th>\n",
       "      <th>38</th>\n",
       "      <th>39</th>\n",
       "      <th>40</th>\n",
       "      <th>41</th>\n",
       "      <th>42</th>\n",
       "      <th>44</th>\n",
       "      <th>47</th>\n",
       "      <th>48</th>\n",
       "      <th>49</th>\n",
       "    </tr>\n",
       "    <tr>\n",
       "      <th>speed_limit</th>\n",
       "      <th></th>\n",
       "      <th></th>\n",
       "      <th></th>\n",
       "      <th></th>\n",
       "      <th></th>\n",
       "      <th></th>\n",
       "      <th></th>\n",
       "      <th></th>\n",
       "      <th></th>\n",
       "      <th></th>\n",
       "      <th></th>\n",
       "      <th></th>\n",
       "      <th></th>\n",
       "      <th></th>\n",
       "      <th></th>\n",
       "      <th></th>\n",
       "      <th></th>\n",
       "      <th></th>\n",
       "      <th></th>\n",
       "      <th></th>\n",
       "      <th></th>\n",
       "    </tr>\n",
       "  </thead>\n",
       "  <tbody>\n",
       "    <tr>\n",
       "      <th>no</th>\n",
       "      <td>0</td>\n",
       "      <td>2</td>\n",
       "      <td>3</td>\n",
       "      <td>1</td>\n",
       "      <td>2</td>\n",
       "      <td>2</td>\n",
       "      <td>1</td>\n",
       "      <td>6</td>\n",
       "      <td>7</td>\n",
       "      <td>4</td>\n",
       "      <td>...</td>\n",
       "      <td>2</td>\n",
       "      <td>1</td>\n",
       "      <td>2</td>\n",
       "      <td>2</td>\n",
       "      <td>0</td>\n",
       "      <td>1</td>\n",
       "      <td>1</td>\n",
       "      <td>1</td>\n",
       "      <td>1</td>\n",
       "      <td>1</td>\n",
       "    </tr>\n",
       "    <tr>\n",
       "      <th>yes</th>\n",
       "      <td>1</td>\n",
       "      <td>0</td>\n",
       "      <td>5</td>\n",
       "      <td>1</td>\n",
       "      <td>2</td>\n",
       "      <td>5</td>\n",
       "      <td>3</td>\n",
       "      <td>2</td>\n",
       "      <td>6</td>\n",
       "      <td>6</td>\n",
       "      <td>...</td>\n",
       "      <td>0</td>\n",
       "      <td>0</td>\n",
       "      <td>0</td>\n",
       "      <td>0</td>\n",
       "      <td>2</td>\n",
       "      <td>1</td>\n",
       "      <td>0</td>\n",
       "      <td>0</td>\n",
       "      <td>0</td>\n",
       "      <td>0</td>\n",
       "    </tr>\n",
       "  </tbody>\n",
       "</table>\n",
       "<p>2 rows × 39 columns</p>\n",
       "</div>"
      ],
      "text/plain": [
       "accident_count  7   8   9   10  11  12  13  14  15  16  ...  37  38  39  40  \\\n",
       "speed_limit                                             ...                   \n",
       "no               0   2   3   1   2   2   1   6   7   4  ...   2   1   2   2   \n",
       "yes              1   0   5   1   2   5   3   2   6   6  ...   0   0   0   0   \n",
       "\n",
       "accident_count  41  42  44  47  48  49  \n",
       "speed_limit                             \n",
       "no               0   1   1   1   1   1  \n",
       "yes              2   1   0   0   0   0  \n",
       "\n",
       "[2 rows x 39 columns]"
      ]
     },
     "execution_count": 15,
     "metadata": {},
     "output_type": "execute_result"
    }
   ],
   "source": [
    "# summary table\n",
    "pd.crosstab(df_subset.speed_limit, df_subset.accident_count) # cross tabulating between the speed_limit and accident_count columns to give a contigency table"
   ]
  },
  {
   "cell_type": "markdown",
   "id": "db87a1be",
   "metadata": {},
   "source": [
    "# Exploratory data analysis"
   ]
  },
  {
   "cell_type": "code",
   "execution_count": 16,
   "id": "915e000c",
   "metadata": {},
   "outputs": [
    {
     "data": {
      "image/png": "[encoded data removed]",
      "text/plain": [
       "<Figure size 640x480 with 1 Axes>"
      ]
     },
     "metadata": {},
     "output_type": "display_data"
    }
   ],
   "source": [
    "width = 0.35 # specifying the width of each bar\n",
    "x = (0,0.8) # specifying the position of the two bars on the x-axis\n",
    "\n",
    "enforcement_count = df_subset[\"speed_limit\"].value_counts()\n",
    "plt.bar(x, enforcement_count, width, edgecolor=\"black\")\n",
    "plt.xticks(x,enforcement_count.index)\n",
    "plt.title(\"Speed limit enforcement rate\")\n",
    "plt.xlabel(\"Speed limit enforcement\")\n",
    "plt.ylabel(\"Total number of days\")\n",
    "plt.show()"
   ]
  },
  {
   "cell_type": "code",
   "execution_count": 17,
   "id": "e74f1898",
   "metadata": {},
   "outputs": [
    {
     "data": {
      "text/plain": [
       "no     115\n",
       "yes     69\n",
       "Name: speed_limit, dtype: int64"
      ]
     },
     "execution_count": 17,
     "metadata": {},
     "output_type": "execute_result"
    }
   ],
   "source": [
    "df_subset[\"speed_limit\"].value_counts()"
   ]
  },
  {
   "cell_type": "code",
   "execution_count": 18,
   "id": "a138fdbb",
   "metadata": {},
   "outputs": [
    {
     "data": {
      "image/png": "[encoded data removed]",
      "text/plain": [
       "<Figure size 640x480 with 1 Axes>"
      ]
     },
     "metadata": {},
     "output_type": "display_data"
    }
   ],
   "source": [
    "enforced = df_subset[df_subset[\"speed_limit\"]==\"yes\"]\n",
    "non_enforced = df_subset[df_subset[\"speed_limit\"]==\"no\"]\n",
    "plt.boxplot([enforced.accident_count, non_enforced.accident_count], notch =True, widths =(0.5,0.5))\n",
    "plt.xlabel(\"Speed limit enforcement\")\n",
    "plt.ylabel(\"Number of accidents\")\n",
    "plt.xticks([1,2],[\"enforced\",\"non_enforced\"])\n",
    "plt.show()  # the little circles represent outliers"
   ]
  },
  {
   "cell_type": "code",
   "execution_count": 19,
   "id": "ff37ecc2",
   "metadata": {
    "scrolled": true
   },
   "outputs": [
    {
     "name": "stdout",
     "output_type": "stream",
     "text": [
      "Accident Frequency:\n",
      "Enforced speed limit accidents: 1305\n",
      "Non enforced speed limit accidents: 2660\n"
     ]
    }
   ],
   "source": [
    "# Accident frequency\n",
    "\n",
    "enforced_speed = df_subset[df_subset[\"speed_limit\"]== \"yes\"]\n",
    "non_enforced_speed = df_subset[df_subset[\"speed_limit\"]== \"no\"]\n",
    "\n",
    "count_enforced = enforced_speed[\"accident_count\"].sum()\n",
    "count_non_enforced = non_enforced_speed[\"accident_count\"].sum()\n",
    "\n",
    "print(\"Accident Frequency:\")\n",
    "print(\"Enforced speed limit accidents:\", count_enforced)\n",
    "print(\"Non enforced speed limit accidents:\", count_non_enforced)"
   ]
  },
  {
   "cell_type": "code",
   "execution_count": 20,
   "id": "3554011a",
   "metadata": {},
   "outputs": [
    {
     "name": "stdout",
     "output_type": "stream",
     "text": [
      "Average Accidents in a day:\n",
      "Average Accidents on speed limit enforced days: 18.91304347826087\n",
      "Average Accidents on non-enforced speed limit days: 23.130434782608695\n"
     ]
    }
   ],
   "source": [
    "# Average accidents\n",
    "\n",
    "average_accidents_enforced = enforced_speed[\"accident_count\"].mean()\n",
    "average_accidents_non_enforced = non_enforced_speed[\"accident_count\"].mean()\n",
    "\n",
    "print(\"Average Accidents in a day:\")\n",
    "print(\"Average Accidents on speed limit enforced days:\", average_accidents_enforced)\n",
    "print(\"Average Accidents on non-enforced speed limit days:\", average_accidents_non_enforced)"
   ]
  },
  {
   "cell_type": "code",
   "execution_count": 21,
   "id": "5636fe48",
   "metadata": {},
   "outputs": [
    {
     "name": "stdout",
     "output_type": "stream",
     "text": [
      "Accident rate comparison:\n",
      "Accident rate for enforced speed limit: 18.91304347826087\n",
      "Accident rate for non enforced speed limit: 23.130434782608695\n"
     ]
    }
   ],
   "source": [
    "# Accident rate comparison\n",
    "total_days_enforced = enforced_speed.shape[0]\n",
    "total_days_non_enforced = non_enforced_speed.shape[0]\n",
    "\n",
    "accident_rate_enforced = count_enforced / total_days_enforced\n",
    "accident_rate_non_enforced = count_non_enforced/ total_days_non_enforced\n",
    "\n",
    "print(\"Accident rate comparison:\")\n",
    "print(\"Accident rate for enforced speed limit:\", accident_rate_enforced)\n",
    "print(\"Accident rate for non enforced speed limit:\", accident_rate_non_enforced)"
   ]
  },
  {
   "cell_type": "code",
   "execution_count": 22,
   "id": "363571ac",
   "metadata": {},
   "outputs": [
    {
     "data": {
      "image/png": "[encoded data removed]",
      "text/plain": [
       "<Figure size 1400x600 with 1 Axes>"
      ]
     },
     "metadata": {},
     "output_type": "display_data"
    }
   ],
   "source": [
    "# Time series analysis\n",
    "accidents_by_day_enforced = enforced_speed.groupby(\"day\").sum()\n",
    "accidents_by_day_non_enforced = non_enforced_speed.groupby(\"day\").sum()\n",
    "\n",
    "plt.figure(figsize=(14,6))\n",
    "plt.plot(accidents_by_day_enforced.index, accidents_by_day_enforced[\"accident_count\"], label= \"Enforced speed limit\")\n",
    "plt.plot(accidents_by_day_non_enforced.index, accidents_by_day_non_enforced[\"accident_count\"], label= \"Non enforced speed limit\")\n",
    "plt.xlabel(\"day\")\n",
    "plt.ylabel(\"accident_count\")\n",
    "plt.title(\"Accidents by day\")\n",
    "plt.legend()\n",
    "plt.show()"
   ]
  },
  {
   "cell_type": "code",
   "execution_count": 23,
   "id": "73293b2c",
   "metadata": {},
   "outputs": [
    {
     "name": "stdout",
     "output_type": "stream",
     "text": [
      "\n",
      "Statistical significance:\n",
      "T-Statistics: -3.2324546250545945\n",
      "p-Value: 0.001457100349629465\n"
     ]
    }
   ],
   "source": [
    "# statistical significance\n",
    "t_statistic, p_value =ttest_ind(enforced_speed[\"accident_count\"], non_enforced_speed[\"accident_count\"])\n",
    "\n",
    "print(\"\\nStatistical significance:\")\n",
    "print(\"T-Statistics:\", t_statistic)\n",
    "print(\"p-Value:\", p_value)"
   ]
  }
 ],
 "metadata": {
  "kernelspec": {
   "display_name": "Python 3 (ipykernel)",
   "language": "python",
   "name": "python3"
  },
  "language_info": {
   "codemirror_mode": {
    "name": "ipython",
    "version": 3
   },
   "file_extension": ".py",
   "mimetype": "text/x-python",
   "name": "python",
   "nbconvert_exporter": "python",
   "pygments_lexer": "ipython3",
   "version": "3.9.13"
  }
 },
 "nbformat": 4,
 "nbformat_minor": 5
}
